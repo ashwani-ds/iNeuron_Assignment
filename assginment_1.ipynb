{
  "nbformat": 4,
  "nbformat_minor": 0,
  "metadata": {
    "colab": {
      "name": "assginment_1.ipynb",
      "provenance": []
    },
    "kernelspec": {
      "name": "python3",
      "display_name": "Python 3"
    }
  },
  "cells": [
    {
      "cell_type": "markdown",
      "metadata": {
        "id": "rZmuPGFEfdp-",
        "colab_type": "text"
      },
      "source": [
        "Answer - 1"
      ]
    },
    {
      "cell_type": "code",
      "metadata": {
        "id": "5aLkGpTZNGYW",
        "colab_type": "code",
        "colab": {
          "base_uri": "https://localhost:8080/",
          "height": 54
        },
        "outputId": "dec2ac1e-1e80-4ca1-f7c5-0b53bb7aa1d6"
      },
      "source": [
        "nl = []\n",
        "for x in range(2000, 3200):\n",
        "    if (x % 7 == 0) and (x % 5 != 0):\n",
        "        nl.append(str(x))\n",
        "print(','.join(nl))"
      ],
      "execution_count": 1,
      "outputs": [
        {
          "output_type": "stream",
          "text": [
            "2002,2009,2016,2023,2037,2044,2051,2058,2072,2079,2086,2093,2107,2114,2121,2128,2142,2149,2156,2163,2177,2184,2191,2198,2212,2219,2226,2233,2247,2254,2261,2268,2282,2289,2296,2303,2317,2324,2331,2338,2352,2359,2366,2373,2387,2394,2401,2408,2422,2429,2436,2443,2457,2464,2471,2478,2492,2499,2506,2513,2527,2534,2541,2548,2562,2569,2576,2583,2597,2604,2611,2618,2632,2639,2646,2653,2667,2674,2681,2688,2702,2709,2716,2723,2737,2744,2751,2758,2772,2779,2786,2793,2807,2814,2821,2828,2842,2849,2856,2863,2877,2884,2891,2898,2912,2919,2926,2933,2947,2954,2961,2968,2982,2989,2996,3003,3017,3024,3031,3038,3052,3059,3066,3073,3087,3094,3101,3108,3122,3129,3136,3143,3157,3164,3171,3178,3192,3199\n"
          ],
          "name": "stdout"
        }
      ]
    },
    {
      "cell_type": "markdown",
      "metadata": {
        "id": "fG7MtYtLfxDc",
        "colab_type": "text"
      },
      "source": [
        "Answer - 2"
      ]
    },
    {
      "cell_type": "code",
      "metadata": {
        "id": "ske8Qv79f0nU",
        "colab_type": "code",
        "colab": {
          "base_uri": "https://localhost:8080/",
          "height": 67
        },
        "outputId": "f3afca1d-2ff7-4cee-99c2-9c89b3d8c041"
      },
      "source": [
        "first_name = input(\"Enter your First Name: \")\n",
        "last_name = input(\"Enter your Last Name: \")\n",
        "\n",
        "print(last_name, first_name)"
      ],
      "execution_count": 3,
      "outputs": [
        {
          "output_type": "stream",
          "text": [
            "Enter your First Name: Ashwani\n",
            "Enter your Last Name: Kumar\n",
            "Kumar Ashwani\n"
          ],
          "name": "stdout"
        }
      ]
    },
    {
      "cell_type": "markdown",
      "metadata": {
        "id": "vQHPdA_Df69X",
        "colab_type": "text"
      },
      "source": [
        "Answer - 3"
      ]
    },
    {
      "cell_type": "code",
      "metadata": {
        "id": "n1RQ7dZTf8-H",
        "colab_type": "code",
        "colab": {
          "base_uri": "https://localhost:8080/",
          "height": 34
        },
        "outputId": "0bc98a77-229b-4253-c97d-0b42f8980bd8"
      },
      "source": [
        "diameter = 12\n",
        "radius = diameter / 2\n",
        "pi = 3.14\n",
        "\n",
        "volume_of_sphere = (4/3) * pi * (radius ** 3)\n",
        "\n",
        "print(\"Volume of Sphere is :\", volume_of_sphere)"
      ],
      "execution_count": 2,
      "outputs": [
        {
          "output_type": "stream",
          "text": [
            "Volume of Sphere is : 904.3199999999999\n"
          ],
          "name": "stdout"
        }
      ]
    }
  ]
}